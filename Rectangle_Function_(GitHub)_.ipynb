{
  "nbformat": 4,
  "nbformat_minor": 0,
  "metadata": {
    "colab": {
      "name": "Rectangle Function (GitHub) .ipynb",
      "provenance": [],
      "authorship_tag": "ABX9TyMHE+zpxpnUCHsExSfmK1AL",
      "include_colab_link": true
    },
    "kernelspec": {
      "name": "python3",
      "display_name": "Python 3"
    }
  },
  "cells": [
    {
      "cell_type": "markdown",
      "metadata": {
        "id": "view-in-github",
        "colab_type": "text"
      },
      "source": [
        "<a href=\"https://colab.research.google.com/github/ShivanshGupta1/Rectangle-Function-/blob/main/Rectangle_Function_(GitHub)_.ipynb\" target=\"_parent\"><img src=\"https://colab.research.google.com/assets/colab-badge.svg\" alt=\"Open In Colab\"/></a>"
      ]
    },
    {
      "cell_type": "code",
      "metadata": {
        "id": "rbjWuFXWabxK",
        "colab": {
          "base_uri": "https://localhost:8080/",
          "height": 136
        },
        "outputId": "fed1cb54-5ae4-44f4-aa07-e5db26e6233c"
      },
      "source": [
        "def rectangle(m,n):\n",
        "  for i in range(m):\n",
        "    print('*'*n)\n",
        "m = int(input('Number 1 '))\n",
        "n = int(input('Number 2 '))\n",
        "rectangle(m,n)d"
      ],
      "execution_count": null,
      "outputs": [
        {
          "output_type": "stream",
          "text": [
            "Number 1 5\n",
            "Number 2 8\n",
            "********\n",
            "********\n",
            "********\n",
            "********\n",
            "********\n"
          ],
          "name": "stdout"
        }
      ]
    }
  ]
}